{
 "cells": [
  {
   "cell_type": "code",
   "execution_count": 5,
   "metadata": {},
   "outputs": [],
   "source": [
    "import pyspark\n",
    "import os\n",
    "\n",
    "from pyspark import SparkContext\n",
    "from pyspark.sql import SparkSession\n",
    "from pyspark.sql.functions import year, month, dayofmonth\n",
    "\n",
    "# Возможно нужно будет явно указать Spark'у откуда брать интерпретатор Python для worker'ов\n",
    "os.environ[\"PYSPARK_PYTHON\"]='C:\\Python34'"
   ]
  },
  {
   "cell_type": "markdown",
   "metadata": {},
   "source": [
    "# RDD API"
   ]
  },
  {
   "cell_type": "markdown",
   "metadata": {},
   "source": [
    "API почти полностью совпадает с нативным на Scala. Отсутствие типов и избыточный синтаксис для lambda-функций в Python затрудняет написание и чтение подобного кода. "
   ]
  },
  {
   "cell_type": "code",
   "execution_count": 6,
   "metadata": {},
   "outputs": [
    {
     "name": "stdout",
     "output_type": "stream",
     "text": [
      "C:\\Java\n"
     ]
    },
    {
     "ename": "TypeError",
     "evalue": "__init__() got an unexpected keyword argument 'auth_token'",
     "output_type": "error",
     "traceback": [
      "\u001b[1;31m---------------------------------------------------------------------------\u001b[0m",
      "\u001b[1;31mTypeError\u001b[0m                                 Traceback (most recent call last)",
      "\u001b[1;32m<ipython-input-6-7fc114a5e65d>\u001b[0m in \u001b[0;36m<module>\u001b[1;34m()\u001b[0m\n\u001b[0;32m      1\u001b[0m \u001b[0mget_ipython\u001b[0m\u001b[1;33m(\u001b[0m\u001b[1;33m)\u001b[0m\u001b[1;33m.\u001b[0m\u001b[0msystem\u001b[0m\u001b[1;33m(\u001b[0m\u001b[1;34m'echo %JAVA_HOME%'\u001b[0m\u001b[1;33m)\u001b[0m\u001b[1;33m\u001b[0m\u001b[0m\n\u001b[1;32m----> 2\u001b[1;33m \u001b[0msc\u001b[0m \u001b[1;33m=\u001b[0m \u001b[0mSparkContext\u001b[0m\u001b[1;33m(\u001b[0m\u001b[0mmaster\u001b[0m\u001b[1;33m=\u001b[0m\u001b[1;34m'local[*]'\u001b[0m\u001b[1;33m)\u001b[0m\u001b[1;33m\u001b[0m\u001b[0m\n\u001b[0m",
      "\u001b[1;32mD:\\anaconda_Python\\lib\\site-packages\\pyspark\\context.py\u001b[0m in \u001b[0;36m__init__\u001b[1;34m(self, master, appName, sparkHome, pyFiles, environment, batchSize, serializer, conf, gateway, jsc, profiler_cls)\u001b[0m\n\u001b[0;32m    113\u001b[0m         \"\"\"\n\u001b[0;32m    114\u001b[0m         \u001b[0mself\u001b[0m\u001b[1;33m.\u001b[0m\u001b[0m_callsite\u001b[0m \u001b[1;33m=\u001b[0m \u001b[0mfirst_spark_call\u001b[0m\u001b[1;33m(\u001b[0m\u001b[1;33m)\u001b[0m \u001b[1;32mor\u001b[0m \u001b[0mCallSite\u001b[0m\u001b[1;33m(\u001b[0m\u001b[1;32mNone\u001b[0m\u001b[1;33m,\u001b[0m \u001b[1;32mNone\u001b[0m\u001b[1;33m,\u001b[0m \u001b[1;32mNone\u001b[0m\u001b[1;33m)\u001b[0m\u001b[1;33m\u001b[0m\u001b[0m\n\u001b[1;32m--> 115\u001b[1;33m         \u001b[0mSparkContext\u001b[0m\u001b[1;33m.\u001b[0m\u001b[0m_ensure_initialized\u001b[0m\u001b[1;33m(\u001b[0m\u001b[0mself\u001b[0m\u001b[1;33m,\u001b[0m \u001b[0mgateway\u001b[0m\u001b[1;33m=\u001b[0m\u001b[0mgateway\u001b[0m\u001b[1;33m,\u001b[0m \u001b[0mconf\u001b[0m\u001b[1;33m=\u001b[0m\u001b[0mconf\u001b[0m\u001b[1;33m)\u001b[0m\u001b[1;33m\u001b[0m\u001b[0m\n\u001b[0m\u001b[0;32m    116\u001b[0m         \u001b[1;32mtry\u001b[0m\u001b[1;33m:\u001b[0m\u001b[1;33m\u001b[0m\u001b[0m\n\u001b[0;32m    117\u001b[0m             self._do_init(master, appName, sparkHome, pyFiles, environment, batchSize, serializer,\n",
      "\u001b[1;32mD:\\anaconda_Python\\lib\\site-packages\\pyspark\\context.py\u001b[0m in \u001b[0;36m_ensure_initialized\u001b[1;34m(cls, instance, gateway, conf)\u001b[0m\n\u001b[0;32m    290\u001b[0m         \u001b[1;32mwith\u001b[0m \u001b[0mSparkContext\u001b[0m\u001b[1;33m.\u001b[0m\u001b[0m_lock\u001b[0m\u001b[1;33m:\u001b[0m\u001b[1;33m\u001b[0m\u001b[0m\n\u001b[0;32m    291\u001b[0m             \u001b[1;32mif\u001b[0m \u001b[1;32mnot\u001b[0m \u001b[0mSparkContext\u001b[0m\u001b[1;33m.\u001b[0m\u001b[0m_gateway\u001b[0m\u001b[1;33m:\u001b[0m\u001b[1;33m\u001b[0m\u001b[0m\n\u001b[1;32m--> 292\u001b[1;33m                 \u001b[0mSparkContext\u001b[0m\u001b[1;33m.\u001b[0m\u001b[0m_gateway\u001b[0m \u001b[1;33m=\u001b[0m \u001b[0mgateway\u001b[0m \u001b[1;32mor\u001b[0m \u001b[0mlaunch_gateway\u001b[0m\u001b[1;33m(\u001b[0m\u001b[0mconf\u001b[0m\u001b[1;33m)\u001b[0m\u001b[1;33m\u001b[0m\u001b[0m\n\u001b[0m\u001b[0;32m    293\u001b[0m                 \u001b[0mSparkContext\u001b[0m\u001b[1;33m.\u001b[0m\u001b[0m_jvm\u001b[0m \u001b[1;33m=\u001b[0m \u001b[0mSparkContext\u001b[0m\u001b[1;33m.\u001b[0m\u001b[0m_gateway\u001b[0m\u001b[1;33m.\u001b[0m\u001b[0mjvm\u001b[0m\u001b[1;33m\u001b[0m\u001b[0m\n\u001b[0;32m    294\u001b[0m \u001b[1;33m\u001b[0m\u001b[0m\n",
      "\u001b[1;32mD:\\anaconda_Python\\lib\\site-packages\\pyspark\\java_gateway.py\u001b[0m in \u001b[0;36mlaunch_gateway\u001b[1;34m(conf)\u001b[0m\n\u001b[0;32m    118\u001b[0m     gateway = JavaGateway(\n\u001b[0;32m    119\u001b[0m         gateway_parameters=GatewayParameters(port=gateway_port, auth_token=gateway_secret,\n\u001b[1;32m--> 120\u001b[1;33m                                              auto_convert=True))\n\u001b[0m\u001b[0;32m    121\u001b[0m \u001b[1;33m\u001b[0m\u001b[0m\n\u001b[0;32m    122\u001b[0m     \u001b[1;31m# Import the classes used by PySpark\u001b[0m\u001b[1;33m\u001b[0m\u001b[1;33m\u001b[0m\u001b[0m\n",
      "\u001b[1;31mTypeError\u001b[0m: __init__() got an unexpected keyword argument 'auth_token'"
     ]
    }
   ],
   "source": [
    "!echo %JAVA_HOME%\n",
    "sc = SparkContext(master='local[*]')"
   ]
  },
  {
   "cell_type": "markdown",
   "metadata": {},
   "source": [
    "В качестве примере создадим `RDD` из чисел от 0 до 999, отфильтруем те, которые делятся на 3 и оставшиеся возведем в квадрат. "
   ]
  },
  {
   "cell_type": "code",
   "execution_count": 3,
   "metadata": {},
   "outputs": [
    {
     "data": {
      "text/plain": [
       "[9, 36, 81, 144, 225, 324, 441, 576, 729, 900]"
      ]
     },
     "execution_count": 3,
     "metadata": {},
     "output_type": "execute_result"
    }
   ],
   "source": [
    "rdd = sc.parallelize(range(1, 1000))\n",
    "result = rdd.filter(lambda x: x % 3 == 0).map(lambda x: x**2).collect()\n",
    "result[:10]"
   ]
  },
  {
   "cell_type": "markdown",
   "metadata": {},
   "source": [
    "Дальше будем работать с данными о средней дневной температуре в Санкт-Петербурге за 2008-2016 гг. Файл имеет следующий формат (`CSV` без заголовка):"
   ]
  },
  {
   "cell_type": "code",
   "execution_count": 4,
   "metadata": {},
   "outputs": [
    {
     "name": "stdout",
     "output_type": "stream",
     "text": [
      "2008-01-01,0\n",
      "2008-01-02,-5\n",
      "2008-01-03,-11\n",
      "2008-01-04,-11\n",
      "2008-01-05,-12\n",
      "2008-01-06,-14\n",
      "2008-01-07,-6\n",
      "2008-01-08,-7\n",
      "2008-01-09,-6\n",
      "2008-01-10,0\n"
     ]
    }
   ],
   "source": [
    "WEATHER_FILE = 'scala/src/main/resources/weather.txt'\n",
    "\n",
    "# !head -n 10 {WEATHER_FILE}\n",
    "[line.strip() for line, _ in zip(open(WEATHER_FILE), range(10))]"
   ]
  },
  {
   "cell_type": "markdown",
   "metadata": {},
   "source": [
    "Реализуем функцию `parse_date`, которая будет переводить строку с датой в кортеж `(year, month, day)`. Затем:\n",
    "- прочитаем содержимое файла в `RDD`\n",
    "- разделим содержимое каждой строки по запятой\n",
    "- первую колонку превратим в кортеж `(year, month, day)` и прибавим к нему вторую - температуру"
   ]
  },
  {
   "cell_type": "code",
   "execution_count": 5,
   "metadata": {},
   "outputs": [
    {
     "data": {
      "text/plain": [
       "[(2016, 2, 21, -1),\n",
       " (2016, 2, 20, 0),\n",
       " (2013, 10, 26, 8),\n",
       " (2009, 2, 21, -2),\n",
       " (2008, 4, 29, 18),\n",
       " (2015, 9, 13, 18),\n",
       " (2008, 7, 15, 18),\n",
       " (2015, 3, 9, 4),\n",
       " (2009, 5, 29, 19),\n",
       " (2012, 10, 3, 15)]"
      ]
     },
     "execution_count": 5,
     "metadata": {},
     "output_type": "execute_result"
    }
   ],
   "source": [
    "def parse_date(date_str):\n",
    "    \"\"\" 2008-02-02 -> (2008, 2, 2) \"\"\"\n",
    "    return tuple(map(int, date_str.split('-')))\n",
    "\n",
    "\n",
    "rdd = sc.textFile(WEATHER_FILE) \\\n",
    "    .map(lambda line: line.split(',')) \\\n",
    "    .map(lambda lst: parse_date(lst[0]) + (int(lst[1]), ) )\n",
    "\n",
    "rdd.takeSample(num=10, withReplacement=False)              "
   ]
  },
  {
   "cell_type": "markdown",
   "metadata": {},
   "source": [
    "Посчитаем среднюю дневную температуру летних месяцев по годам. Для этого:\n",
    "- отфильтруем данные для летних месяцев\n",
    "- отобразим исходные данные в набор пар ключ-значение - `(year, temp)`\n",
    "- каждое значение отобразим в пару `(temp, 1)`\n",
    "- сделаем свертку по ключу, считая суммарную температуру и число дней\n",
    "- посчитаем среднее\n",
    "- отсортируем по году"
   ]
  },
  {
   "cell_type": "code",
   "execution_count": 6,
   "metadata": {},
   "outputs": [
    {
     "data": {
      "text/plain": [
       "[(2008, 18.119565217391305),\n",
       " (2009, 18.72826086956522),\n",
       " (2010, 22.119565217391305),\n",
       " (2011, 21.318681318681318),\n",
       " (2012, 19.08695652173913),\n",
       " (2013, 21.543478260869566),\n",
       " (2014, 20.706521739130434),\n",
       " (2015, 19.032608695652176),\n",
       " (2016, 19.32608695652174)]"
      ]
     },
     "execution_count": 6,
     "metadata": {},
     "output_type": "execute_result"
    }
   ],
   "source": [
    "\n",
    "rdd.filter(lambda lst: 6 <= lst[1] <= 8) \\\n",
    "   .map(lambda lst: (lst[0], lst[-1])) \\\n",
    "   .mapValues(lambda v: (v, 1)) \\\n",
    "   .reduceByKey(lambda x, y: (x[0] + y[0], x[1] + y[1])) \\\n",
    "   .mapValues(lambda v: v[0] / v[1]) \\\n",
    "   .sortByKey() \\\n",
    "   .take(10) "
   ]
  },
  {
   "cell_type": "markdown",
   "metadata": {},
   "source": [
    "# Spark SQL"
   ]
  },
  {
   "cell_type": "markdown",
   "metadata": {},
   "source": [
    "Точка входа - `SparkSession`. Из неё можно получить `SparkContext`."
   ]
  },
  {
   "cell_type": "code",
   "execution_count": 7,
   "metadata": {
    "scrolled": true
   },
   "outputs": [
    {
     "name": "stdout",
     "output_type": "stream",
     "text": [
      "C:\\Java\n"
     ]
    },
    {
     "ename": "TypeError",
     "evalue": "__init__() got an unexpected keyword argument 'auth_token'",
     "output_type": "error",
     "traceback": [
      "\u001b[1;31m---------------------------------------------------------------------------\u001b[0m",
      "\u001b[1;31mTypeError\u001b[0m                                 Traceback (most recent call last)",
      "\u001b[1;32m<ipython-input-7-b9fa2d215100>\u001b[0m in \u001b[0;36m<module>\u001b[1;34m()\u001b[0m\n\u001b[0;32m      1\u001b[0m \u001b[0mget_ipython\u001b[0m\u001b[1;33m(\u001b[0m\u001b[1;33m)\u001b[0m\u001b[1;33m.\u001b[0m\u001b[0msystem\u001b[0m\u001b[1;33m(\u001b[0m\u001b[1;34m'echo %JAVA_HOME%'\u001b[0m\u001b[1;33m)\u001b[0m\u001b[1;33m\u001b[0m\u001b[0m\n\u001b[1;32m----> 2\u001b[1;33m \u001b[0mspark\u001b[0m \u001b[1;33m=\u001b[0m \u001b[0mSparkSession\u001b[0m     \u001b[1;33m.\u001b[0m\u001b[0mbuilder\u001b[0m     \u001b[1;33m.\u001b[0m\u001b[0mappName\u001b[0m\u001b[1;33m(\u001b[0m\u001b[1;34m\"PySpark\"\u001b[0m\u001b[1;33m)\u001b[0m     \u001b[1;33m.\u001b[0m\u001b[0mgetOrCreate\u001b[0m\u001b[1;33m(\u001b[0m\u001b[1;33m)\u001b[0m\u001b[1;33m\u001b[0m\u001b[0m\n\u001b[0m",
      "\u001b[1;32mD:\\anaconda_Python\\lib\\site-packages\\pyspark\\sql\\session.py\u001b[0m in \u001b[0;36mgetOrCreate\u001b[1;34m(self)\u001b[0m\n\u001b[0;32m    171\u001b[0m                     \u001b[1;32mfor\u001b[0m \u001b[0mkey\u001b[0m\u001b[1;33m,\u001b[0m \u001b[0mvalue\u001b[0m \u001b[1;32min\u001b[0m \u001b[0mself\u001b[0m\u001b[1;33m.\u001b[0m\u001b[0m_options\u001b[0m\u001b[1;33m.\u001b[0m\u001b[0mitems\u001b[0m\u001b[1;33m(\u001b[0m\u001b[1;33m)\u001b[0m\u001b[1;33m:\u001b[0m\u001b[1;33m\u001b[0m\u001b[0m\n\u001b[0;32m    172\u001b[0m                         \u001b[0msparkConf\u001b[0m\u001b[1;33m.\u001b[0m\u001b[0mset\u001b[0m\u001b[1;33m(\u001b[0m\u001b[0mkey\u001b[0m\u001b[1;33m,\u001b[0m \u001b[0mvalue\u001b[0m\u001b[1;33m)\u001b[0m\u001b[1;33m\u001b[0m\u001b[0m\n\u001b[1;32m--> 173\u001b[1;33m                     \u001b[0msc\u001b[0m \u001b[1;33m=\u001b[0m \u001b[0mSparkContext\u001b[0m\u001b[1;33m.\u001b[0m\u001b[0mgetOrCreate\u001b[0m\u001b[1;33m(\u001b[0m\u001b[0msparkConf\u001b[0m\u001b[1;33m)\u001b[0m\u001b[1;33m\u001b[0m\u001b[0m\n\u001b[0m\u001b[0;32m    174\u001b[0m                     \u001b[1;31m# This SparkContext may be an existing one.\u001b[0m\u001b[1;33m\u001b[0m\u001b[1;33m\u001b[0m\u001b[0m\n\u001b[0;32m    175\u001b[0m                     \u001b[1;32mfor\u001b[0m \u001b[0mkey\u001b[0m\u001b[1;33m,\u001b[0m \u001b[0mvalue\u001b[0m \u001b[1;32min\u001b[0m \u001b[0mself\u001b[0m\u001b[1;33m.\u001b[0m\u001b[0m_options\u001b[0m\u001b[1;33m.\u001b[0m\u001b[0mitems\u001b[0m\u001b[1;33m(\u001b[0m\u001b[1;33m)\u001b[0m\u001b[1;33m:\u001b[0m\u001b[1;33m\u001b[0m\u001b[0m\n",
      "\u001b[1;32mD:\\anaconda_Python\\lib\\site-packages\\pyspark\\context.py\u001b[0m in \u001b[0;36mgetOrCreate\u001b[1;34m(cls, conf)\u001b[0m\n\u001b[0;32m    341\u001b[0m         \u001b[1;32mwith\u001b[0m \u001b[0mSparkContext\u001b[0m\u001b[1;33m.\u001b[0m\u001b[0m_lock\u001b[0m\u001b[1;33m:\u001b[0m\u001b[1;33m\u001b[0m\u001b[0m\n\u001b[0;32m    342\u001b[0m             \u001b[1;32mif\u001b[0m \u001b[0mSparkContext\u001b[0m\u001b[1;33m.\u001b[0m\u001b[0m_active_spark_context\u001b[0m \u001b[1;32mis\u001b[0m \u001b[1;32mNone\u001b[0m\u001b[1;33m:\u001b[0m\u001b[1;33m\u001b[0m\u001b[0m\n\u001b[1;32m--> 343\u001b[1;33m                 \u001b[0mSparkContext\u001b[0m\u001b[1;33m(\u001b[0m\u001b[0mconf\u001b[0m\u001b[1;33m=\u001b[0m\u001b[0mconf\u001b[0m \u001b[1;32mor\u001b[0m \u001b[0mSparkConf\u001b[0m\u001b[1;33m(\u001b[0m\u001b[1;33m)\u001b[0m\u001b[1;33m)\u001b[0m\u001b[1;33m\u001b[0m\u001b[0m\n\u001b[0m\u001b[0;32m    344\u001b[0m             \u001b[1;32mreturn\u001b[0m \u001b[0mSparkContext\u001b[0m\u001b[1;33m.\u001b[0m\u001b[0m_active_spark_context\u001b[0m\u001b[1;33m\u001b[0m\u001b[0m\n\u001b[0;32m    345\u001b[0m \u001b[1;33m\u001b[0m\u001b[0m\n",
      "\u001b[1;32mD:\\anaconda_Python\\lib\\site-packages\\pyspark\\context.py\u001b[0m in \u001b[0;36m__init__\u001b[1;34m(self, master, appName, sparkHome, pyFiles, environment, batchSize, serializer, conf, gateway, jsc, profiler_cls)\u001b[0m\n\u001b[0;32m    113\u001b[0m         \"\"\"\n\u001b[0;32m    114\u001b[0m         \u001b[0mself\u001b[0m\u001b[1;33m.\u001b[0m\u001b[0m_callsite\u001b[0m \u001b[1;33m=\u001b[0m \u001b[0mfirst_spark_call\u001b[0m\u001b[1;33m(\u001b[0m\u001b[1;33m)\u001b[0m \u001b[1;32mor\u001b[0m \u001b[0mCallSite\u001b[0m\u001b[1;33m(\u001b[0m\u001b[1;32mNone\u001b[0m\u001b[1;33m,\u001b[0m \u001b[1;32mNone\u001b[0m\u001b[1;33m,\u001b[0m \u001b[1;32mNone\u001b[0m\u001b[1;33m)\u001b[0m\u001b[1;33m\u001b[0m\u001b[0m\n\u001b[1;32m--> 115\u001b[1;33m         \u001b[0mSparkContext\u001b[0m\u001b[1;33m.\u001b[0m\u001b[0m_ensure_initialized\u001b[0m\u001b[1;33m(\u001b[0m\u001b[0mself\u001b[0m\u001b[1;33m,\u001b[0m \u001b[0mgateway\u001b[0m\u001b[1;33m=\u001b[0m\u001b[0mgateway\u001b[0m\u001b[1;33m,\u001b[0m \u001b[0mconf\u001b[0m\u001b[1;33m=\u001b[0m\u001b[0mconf\u001b[0m\u001b[1;33m)\u001b[0m\u001b[1;33m\u001b[0m\u001b[0m\n\u001b[0m\u001b[0;32m    116\u001b[0m         \u001b[1;32mtry\u001b[0m\u001b[1;33m:\u001b[0m\u001b[1;33m\u001b[0m\u001b[0m\n\u001b[0;32m    117\u001b[0m             self._do_init(master, appName, sparkHome, pyFiles, environment, batchSize, serializer,\n",
      "\u001b[1;32mD:\\anaconda_Python\\lib\\site-packages\\pyspark\\context.py\u001b[0m in \u001b[0;36m_ensure_initialized\u001b[1;34m(cls, instance, gateway, conf)\u001b[0m\n\u001b[0;32m    290\u001b[0m         \u001b[1;32mwith\u001b[0m \u001b[0mSparkContext\u001b[0m\u001b[1;33m.\u001b[0m\u001b[0m_lock\u001b[0m\u001b[1;33m:\u001b[0m\u001b[1;33m\u001b[0m\u001b[0m\n\u001b[0;32m    291\u001b[0m             \u001b[1;32mif\u001b[0m \u001b[1;32mnot\u001b[0m \u001b[0mSparkContext\u001b[0m\u001b[1;33m.\u001b[0m\u001b[0m_gateway\u001b[0m\u001b[1;33m:\u001b[0m\u001b[1;33m\u001b[0m\u001b[0m\n\u001b[1;32m--> 292\u001b[1;33m                 \u001b[0mSparkContext\u001b[0m\u001b[1;33m.\u001b[0m\u001b[0m_gateway\u001b[0m \u001b[1;33m=\u001b[0m \u001b[0mgateway\u001b[0m \u001b[1;32mor\u001b[0m \u001b[0mlaunch_gateway\u001b[0m\u001b[1;33m(\u001b[0m\u001b[0mconf\u001b[0m\u001b[1;33m)\u001b[0m\u001b[1;33m\u001b[0m\u001b[0m\n\u001b[0m\u001b[0;32m    293\u001b[0m                 \u001b[0mSparkContext\u001b[0m\u001b[1;33m.\u001b[0m\u001b[0m_jvm\u001b[0m \u001b[1;33m=\u001b[0m \u001b[0mSparkContext\u001b[0m\u001b[1;33m.\u001b[0m\u001b[0m_gateway\u001b[0m\u001b[1;33m.\u001b[0m\u001b[0mjvm\u001b[0m\u001b[1;33m\u001b[0m\u001b[0m\n\u001b[0;32m    294\u001b[0m \u001b[1;33m\u001b[0m\u001b[0m\n",
      "\u001b[1;32mD:\\anaconda_Python\\lib\\site-packages\\pyspark\\java_gateway.py\u001b[0m in \u001b[0;36mlaunch_gateway\u001b[1;34m(conf)\u001b[0m\n\u001b[0;32m    118\u001b[0m     gateway = JavaGateway(\n\u001b[0;32m    119\u001b[0m         gateway_parameters=GatewayParameters(port=gateway_port, auth_token=gateway_secret,\n\u001b[1;32m--> 120\u001b[1;33m                                              auto_convert=True))\n\u001b[0m\u001b[0;32m    121\u001b[0m \u001b[1;33m\u001b[0m\u001b[0m\n\u001b[0;32m    122\u001b[0m     \u001b[1;31m# Import the classes used by PySpark\u001b[0m\u001b[1;33m\u001b[0m\u001b[1;33m\u001b[0m\u001b[0m\n",
      "\u001b[1;31mTypeError\u001b[0m: __init__() got an unexpected keyword argument 'auth_token'"
     ]
    }
   ],
   "source": [
    "!echo %JAVA_HOME%\n",
    "spark = SparkSession \\\n",
    "    .builder \\\n",
    "    .appName(\"PySpark\") \\\n",
    "    .getOrCreate()"
   ]
  },
  {
   "cell_type": "markdown",
   "metadata": {},
   "source": [
    "Будем решать ту же задачу, но с помощью `Spark SQL`. В этом случае данные логически представимы в виде таблицы с типизированными колонками. Для того чтобы прочитать `CSV`-файл нужно указать типы колонок или попросить вывести их самостоятельно. Ниже три способа:"
   ]
  },
  {
   "cell_type": "code",
   "execution_count": 3,
   "metadata": {},
   "outputs": [
    {
     "ename": "NameError",
     "evalue": "name 'spark' is not defined",
     "output_type": "error",
     "traceback": [
      "\u001b[1;31m---------------------------------------------------------------------------\u001b[0m",
      "\u001b[1;31mNameError\u001b[0m                                 Traceback (most recent call last)",
      "\u001b[1;32m<ipython-input-3-08d35ac5a074>\u001b[0m in \u001b[0;36m<module>\u001b[1;34m()\u001b[0m\n\u001b[0;32m      6\u001b[0m             StructField(\"temp\", IntegerType(), False)]\n\u001b[0;32m      7\u001b[0m         )\n\u001b[1;32m----> 8\u001b[1;33m \u001b[0mdf\u001b[0m \u001b[1;33m=\u001b[0m \u001b[0mspark\u001b[0m\u001b[1;33m.\u001b[0m\u001b[0mread\u001b[0m\u001b[1;33m.\u001b[0m\u001b[0mcsv\u001b[0m\u001b[1;33m(\u001b[0m\u001b[0mWEATHER_FILE\u001b[0m\u001b[1;33m,\u001b[0m \u001b[0mschema\u001b[0m\u001b[1;33m=\u001b[0m\u001b[0mschema\u001b[0m\u001b[1;33m)\u001b[0m\u001b[1;33m\u001b[0m\u001b[0m\n\u001b[0m\u001b[0;32m      9\u001b[0m \u001b[1;33m\u001b[0m\u001b[0m\n\u001b[0;32m     10\u001b[0m \u001b[1;31m# 2. Для простоты можно передать её в виде строки\u001b[0m\u001b[1;33m\u001b[0m\u001b[1;33m\u001b[0m\u001b[0m\n",
      "\u001b[1;31mNameError\u001b[0m: name 'spark' is not defined"
     ]
    }
   ],
   "source": [
    "from pyspark.sql.types import StructType, StructField, IntegerType, TimestampType\n",
    "\n",
    "# 1. Вручную описываем схему\n",
    "schema= StructType([\n",
    "            StructField(\"date\", TimestampType(), False),\n",
    "            StructField(\"temp\", IntegerType(), False)]\n",
    "        )\n",
    "df = spark.read.csv(WEATHER_FILE, schema=schema)\n",
    "\n",
    "# 2. Для простоты можно передать её в виде строки\n",
    "df = spark.read.csv(WEATHER_FILE, schema='date Timestamp, temp INT')\n",
    "\n",
    "# 3. Можно вывести схуму автоматически \n",
    "df = spark.read.csv(WEATHER_FILE, inferSchema=True).toDF('date', 'temp')\n",
    "\n",
    "df.show(10)"
   ]
  },
  {
   "cell_type": "markdown",
   "metadata": {},
   "source": [
    "Любые операции с вручную написанные на `Python`  будут неэффективны. Потом все действия над данными лучше описывать декларативно с помощью \"функций\" из пакета `pyspark.sql.functions`"
   ]
  },
  {
   "cell_type": "code",
   "execution_count": 9,
   "metadata": {},
   "outputs": [
    {
     "name": "stdout",
     "output_type": "stream",
     "text": [
      "+----+----+\n",
      "|year|temp|\n",
      "+----+----+\n",
      "|2008|  15|\n",
      "|2008|  17|\n",
      "|2008|  10|\n",
      "|2008|  16|\n",
      "|2008|  20|\n",
      "|2008|  20|\n",
      "|2008|  11|\n",
      "|2008|  17|\n",
      "|2008|  17|\n",
      "|2008|  13|\n",
      "+----+----+\n",
      "only showing top 10 rows\n",
      "\n"
     ]
    }
   ],
   "source": [
    "import pyspark.sql.functions as F\n",
    "\n",
    "yt = df.filter((F.month('date') >= 6) & (F.month('date') <= 8)) \\\n",
    "      .select(F.year('date').alias('year'), 'temp')\n",
    "\n",
    "# Можно использовать другой синтаксис \n",
    "#yt = df.filter((F.month(df['date']) >= 6) & (F.month(df['date']) <= 8)) \n",
    "#yt = df.filter((F.month(F.col('date')) >= 6) & (F.month(F.col('date')) <= 8)) \n",
    "\n",
    "yt.show(10)"
   ]
  },
  {
   "cell_type": "code",
   "execution_count": 10,
   "metadata": {},
   "outputs": [
    {
     "name": "stdout",
     "output_type": "stream",
     "text": [
      "+----+------------------+\n",
      "|year|          avg_temp|\n",
      "+----+------------------+\n",
      "|2008|18.119565217391305|\n",
      "|2009| 18.72826086956522|\n",
      "|2010|22.119565217391305|\n",
      "|2011|21.318681318681318|\n",
      "|2012| 19.08695652173913|\n",
      "|2013|21.543478260869566|\n",
      "|2014|20.706521739130434|\n",
      "|2015|19.032608695652176|\n",
      "|2016| 19.32608695652174|\n",
      "+----+------------------+\n",
      "\n"
     ]
    }
   ],
   "source": [
    "yt.groupBy('year') \\\n",
    "  .agg(F.avg('temp').alias('avg_temp')) \\\n",
    "  .sort('year') \\\n",
    "  .show(10)"
   ]
  },
  {
   "cell_type": "markdown",
   "metadata": {},
   "source": [
    "`DataFrame` можно зарегестрировать в виде именованной сущности, в таком случае все эти действия мы можем выполнить с помощью `SQL` запроса:"
   ]
  },
  {
   "cell_type": "code",
   "execution_count": 11,
   "metadata": {},
   "outputs": [
    {
     "name": "stdout",
     "output_type": "stream",
     "text": [
      "+----+------------------+\n",
      "|   y|         avg(temp)|\n",
      "+----+------------------+\n",
      "|2008|18.119565217391305|\n",
      "|2009| 18.72826086956522|\n",
      "|2010|22.119565217391305|\n",
      "|2011|21.318681318681318|\n",
      "|2012| 19.08695652173913|\n",
      "|2013|21.543478260869566|\n",
      "|2014|20.706521739130434|\n",
      "|2015|19.032608695652176|\n",
      "|2016| 19.32608695652174|\n",
      "+----+------------------+\n",
      "\n"
     ]
    }
   ],
   "source": [
    "df.createOrReplaceTempView('weather')\n",
    "\n",
    "yt = spark.sql(\"\"\"SELECT year(date) as y, avg(temp) FROM weather \n",
    "                    WHERE month(date) > 5  and month(date) < 9 \n",
    "                    GROUP BY y \n",
    "                    ORDER BY y\"\"\")\n",
    "yt.show()"
   ]
  },
  {
   "cell_type": "markdown",
   "metadata": {},
   "source": [
    "Привидем ещё один пример - посчитаем разницу между температурой за конкретный день и средней температурой в этой месяц. \n",
    "\n",
    "Cоздадим `DataFrame` с полями `(year, month, avg_temp)`. Метод `select` открывает новый `DataFrame`, но с иными полями, вычисленными на основе существующих."
   ]
  },
  {
   "cell_type": "code",
   "execution_count": 12,
   "metadata": {},
   "outputs": [
    {
     "name": "stdout",
     "output_type": "stream",
     "text": [
      "+----+-----+--------------------+\n",
      "|year|month|           month_avg|\n",
      "+----+-----+--------------------+\n",
      "|2012|   10|    7.67741935483871|\n",
      "|2010|    7|   27.06451612903226|\n",
      "|2010|   12|  -7.935483870967742|\n",
      "|2015|    2|-0.21428571428571427|\n",
      "|2008|    8|  17.419354838709676|\n",
      "|2009|   11|  2.8333333333333335|\n",
      "|2014|    4|   8.766666666666667|\n",
      "|2015|   12|  2.3225806451612905|\n",
      "|2016|    7|  20.451612903225808|\n",
      "|2016|   11| -1.4333333333333333|\n",
      "+----+-----+--------------------+\n",
      "only showing top 10 rows\n",
      "\n"
     ]
    }
   ],
   "source": [
    "new_df = df.select(F.year('date').alias('year'), \n",
    "                   F.month('date').alias('month'), \n",
    "                   F.dayofmonth('date').alias('day'),\n",
    "                   'temp')\n",
    "\n",
    "ms = new_df \\\n",
    "       .groupby('year', 'month') \\\n",
    "       .agg(F.avg('temp').alias('month_avg'))\n",
    "\n",
    "ms.show(10)"
   ]
  },
  {
   "cell_type": "markdown",
   "metadata": {},
   "source": [
    "Дальше воспользуемся `join`, который похож на аналогичную операцию в `SQL`"
   ]
  },
  {
   "cell_type": "code",
   "execution_count": 13,
   "metadata": {},
   "outputs": [
    {
     "name": "stdout",
     "output_type": "stream",
     "text": [
      "+----+-----+---+----+-------------------+\n",
      "|year|month|day|temp|          month_avg|\n",
      "+----+-----+---+----+-------------------+\n",
      "|2008|    1|  1|   0|-1.6129032258064515|\n",
      "|2008|    1|  2|  -5|-1.6129032258064515|\n",
      "|2008|    1|  3| -11|-1.6129032258064515|\n",
      "|2008|    1|  4| -11|-1.6129032258064515|\n",
      "|2008|    1|  5| -12|-1.6129032258064515|\n",
      "|2008|    1|  6| -14|-1.6129032258064515|\n",
      "|2008|    1|  7|  -6|-1.6129032258064515|\n",
      "|2008|    1|  8|  -7|-1.6129032258064515|\n",
      "|2008|    1|  9|  -6|-1.6129032258064515|\n",
      "|2008|    1| 10|   0|-1.6129032258064515|\n",
      "+----+-----+---+----+-------------------+\n",
      "only showing top 10 rows\n",
      "\n"
     ]
    }
   ],
   "source": [
    "m_avg = new_df.join(ms, ['year', 'month'])\n",
    "\n",
    "m_avg.show(10)"
   ]
  },
  {
   "cell_type": "markdown",
   "metadata": {},
   "source": [
    "В итоге посчитаем разницу:"
   ]
  },
  {
   "cell_type": "code",
   "execution_count": 14,
   "metadata": {},
   "outputs": [
    {
     "name": "stdout",
     "output_type": "stream",
     "text": [
      "+----+-----+---+----+-------------------+------------------+\n",
      "|year|month|day|temp|          month_avg|              diff|\n",
      "+----+-----+---+----+-------------------+------------------+\n",
      "|2008|    1|  1|   0|-1.6129032258064515|1.6129032258064515|\n",
      "|2008|    1|  2|  -5|-1.6129032258064515|3.3870967741935485|\n",
      "|2008|    1|  3| -11|-1.6129032258064515| 9.387096774193548|\n",
      "|2008|    1|  4| -11|-1.6129032258064515| 9.387096774193548|\n",
      "|2008|    1|  5| -12|-1.6129032258064515|10.387096774193548|\n",
      "|2008|    1|  6| -14|-1.6129032258064515|12.387096774193548|\n",
      "|2008|    1|  7|  -6|-1.6129032258064515| 4.387096774193548|\n",
      "|2008|    1|  8|  -7|-1.6129032258064515| 5.387096774193548|\n",
      "|2008|    1|  9|  -6|-1.6129032258064515| 4.387096774193548|\n",
      "|2008|    1| 10|   0|-1.6129032258064515|1.6129032258064515|\n",
      "+----+-----+---+----+-------------------+------------------+\n",
      "only showing top 10 rows\n",
      "\n"
     ]
    }
   ],
   "source": [
    "m_avg.withColumn('diff', F.abs(m_avg['temp'] - m_avg['month_avg'])) \\\n",
    "     .show(10)"
   ]
  }
 ],
 "metadata": {
  "kernelspec": {
   "display_name": "Python 3",
   "language": "python",
   "name": "python3"
  },
  "language_info": {
   "codemirror_mode": {
    "name": "ipython",
    "version": 3
   },
   "file_extension": ".py",
   "mimetype": "text/x-python",
   "name": "python",
   "nbconvert_exporter": "python",
   "pygments_lexer": "ipython3",
   "version": "3.6.4"
  }
 },
 "nbformat": 4,
 "nbformat_minor": 2
}
